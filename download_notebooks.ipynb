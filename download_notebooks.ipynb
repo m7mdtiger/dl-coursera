{
 "cells": [
  {
   "cell_type": "code",
   "execution_count": 1,
   "metadata": {
    "collapsed": true
   },
   "outputs": [],
   "source": [
    "# make directories for downloads\n",
    "!mkdir downloads\n",
    "!mkdir downloads_zip"
   ]
  },
  {
   "cell_type": "code",
   "execution_count": 4,
   "metadata": {},
   "outputs": [],
   "source": [
    "# copy files\n",
    "\n",
    "!cp week5 downloads/week1 -R\n",
    "!cp week6 downloads/week2 -R\n",
    "!cp week7 downloads/week3 -R\n",
    "!cp readonly downloads/readonly -R"
   ]
  },
  {
   "cell_type": "code",
   "execution_count": 5,
   "metadata": {
    "collapsed": true
   },
   "outputs": [],
   "source": [
    "# remove symbolic links pointing to itself (if any)\n",
    "!cd downloads/ && find ./ -type l -exec sh -c 'readlink -f \"{}\" 1>/dev/null || rm \"{}\"' -- \"{}\" \\;"
   ]
  },
  {
   "cell_type": "code",
   "execution_count": 6,
   "metadata": {
    "collapsed": true
   },
   "outputs": [],
   "source": [
    "# copy files again and this time also download symlinks content\n",
    "!cd downloads/ && find ./ -type l -exec sh -c 'readlink -f \"{}\" 1>/dev/null || rm \"{}\"' -- \"{}\" \\;"
   ]
  },
  {
   "cell_type": "code",
   "execution_count": 7,
   "metadata": {
    "collapsed": true
   },
   "outputs": [],
   "source": [
    "# copy files again and this time also download symlinks content\n",
    "!tar -hcf - downloads | tar -xf - -C downloads_zip"
   ]
  },
  {
   "cell_type": "code",
   "execution_count": 8,
   "metadata": {},
   "outputs": [
    {
     "name": "stdout",
     "output_type": "stream",
     "text": [
      "downloads_zip/\n",
      "downloads_zip/downloads/\n",
      "downloads_zip/downloads/week2/\n",
      "downloads_zip/downloads/week2/opt_utils.py\n",
      "downloads_zip/downloads/week2/testCases.py\n",
      "downloads_zip/downloads/week2/images/\n",
      "downloads_zip/downloads/week2/images/opt1.gif\n",
      "downloads_zip/downloads/week2/images/cost.jpg\n",
      "downloads_zip/downloads/week2/images/kiank_partition.png\n",
      "downloads_zip/downloads/week2/images/kiank_sgd.png\n",
      "downloads_zip/downloads/week2/images/opt2.gif\n",
      "downloads_zip/downloads/week2/images/Momentum.png\n",
      "downloads_zip/downloads/week2/images/kiank_shuffle.png\n",
      "downloads_zip/downloads/week2/images/opt_momentum.png\n",
      "downloads_zip/downloads/week2/images/kiank_minibatch.png\n",
      "downloads_zip/downloads/week2/datasets/\n",
      "downloads_zip/downloads/week2/datasets/data.mat\n",
      "downloads_zip/downloads/week2/__pycache__/\n",
      "downloads_zip/downloads/week2/Optimization methods.ipynb\n",
      "downloads_zip/downloads/readonly/\n",
      "downloads_zip/downloads/week1/\n",
      "downloads_zip/downloads/week1/Regularization/\n",
      "downloads_zip/downloads/week1/Regularization/Regularization.ipynb\n",
      "downloads_zip/downloads/week1/Regularization/.ipynb_checkpoints/\n",
      "downloads_zip/downloads/week1/Regularization/.ipynb_checkpoints/Regularization - v2-checkpoint.ipynb\n",
      "downloads_zip/downloads/week1/Regularization/testCases.py\n",
      "downloads_zip/downloads/week1/Regularization/images/\n",
      "downloads_zip/downloads/week1/Regularization/images/field_kiank.png\n",
      "downloads_zip/downloads/week1/Regularization/images/dropout1_kiank.mp4\n",
      "downloads_zip/downloads/week1/Regularization/images/dropout2_kiank.mp4\n",
      "downloads_zip/downloads/week1/Regularization/datasets/\n",
      "downloads_zip/downloads/week1/Regularization/datasets/data.mat\n",
      "downloads_zip/downloads/week1/Regularization/datasets/train_catvnoncat.h5\n",
      "downloads_zip/downloads/week1/Regularization/datasets/test_catvnoncat.h5\n",
      "downloads_zip/downloads/week1/Regularization/__pycache__/\n",
      "downloads_zip/downloads/week1/Regularization/__pycache__/testCases.cpython-36.pyc\n",
      "downloads_zip/downloads/week1/Regularization/__pycache__/reg_utils.cpython-36.pyc\n",
      "downloads_zip/downloads/week1/Regularization/Regularization - v2.ipynb\n",
      "downloads_zip/downloads/week1/Regularization/reg_utils.py\n",
      "downloads_zip/downloads/week1/Initialization/\n",
      "downloads_zip/downloads/week1/Initialization/Initialization.ipynb\n",
      "downloads_zip/downloads/week1/Initialization/.ipynb_checkpoints/\n",
      "downloads_zip/downloads/week1/Initialization/.ipynb_checkpoints/Initialization-checkpoint.ipynb\n",
      "downloads_zip/downloads/week1/Initialization/__pycache__/\n",
      "downloads_zip/downloads/week1/Initialization/__pycache__/init_utils.cpython-36.pyc\n",
      "downloads_zip/downloads/week1/Initialization/init_utils.py\n",
      "downloads_zip/downloads/week1/Gradient Checking/\n",
      "downloads_zip/downloads/week1/Gradient Checking/testCases.py\n",
      "downloads_zip/downloads/week1/Gradient Checking/images/\n",
      "downloads_zip/downloads/week1/Gradient Checking/images/handforward_kiank.png\n",
      "downloads_zip/downloads/week1/Gradient Checking/images/NDgrad_kiank.png\n",
      "downloads_zip/downloads/week1/Gradient Checking/images/handbackward_kiank.png\n",
      "downloads_zip/downloads/week1/Gradient Checking/images/dictionary_to_vector.png\n",
      "downloads_zip/downloads/week1/Gradient Checking/images/1Dgrad_kiank.png\n",
      "downloads_zip/downloads/week1/Gradient Checking/Gradient Checking v1.ipynb\n",
      "downloads_zip/downloads/week1/Gradient Checking/gc_utils.py\n",
      "downloads_zip/downloads/week1/Gradient Checking/__pycache__/\n",
      "downloads_zip/downloads/week3/\n",
      "downloads_zip/downloads/week3/improv_utils.py\n",
      "downloads_zip/downloads/week3/images/\n",
      "downloads_zip/downloads/week3/images/onehot.png\n",
      "downloads_zip/downloads/week3/images/thumbs_up.jpg\n",
      "downloads_zip/downloads/week3/images/hands.png\n",
      "downloads_zip/downloads/week3/tf_utils.py\n",
      "downloads_zip/downloads/week3/datasets/\n",
      "downloads_zip/downloads/week3/datasets/train_signs.h5\n",
      "downloads_zip/downloads/week3/datasets/test_signs.h5\n",
      "downloads_zip/downloads/week3/__pycache__/\n",
      "downloads_zip/downloads/week3/Tensorflow Tutorial.ipynb\n"
     ]
    }
   ],
   "source": [
    "# gz the files\n",
    "!tar cvfz downloads_zip.tar.gz \\\n",
    "    'downloads_zip' \\"
   ]
  },
  {
   "cell_type": "code",
   "execution_count": 9,
   "metadata": {
    "collapsed": true
   },
   "outputs": [],
   "source": [
    "# split the files in order to be able to download them\n",
    "\n",
    "!split -b 200m downloads_zip.tar.gz downloads_zip.tar.gz.part."
   ]
  },
  {
   "cell_type": "code",
   "execution_count": 10,
   "metadata": {
    "collapsed": true
   },
   "outputs": [],
   "source": [
    "# run this in your terminal on your local machine in the folder you downloaded the gzip parts (might be different on Windows - this works for Mac)\n",
    "# cat downloads_zip.tar.gz.part.* > downloads_zip.tar.gz"
   ]
  },
  {
   "cell_type": "code",
   "execution_count": 11,
   "metadata": {
    "collapsed": true
   },
   "outputs": [],
   "source": [
    "# clean up\n",
    "!rm -rf downloads/\n",
    "!rm -rf downloads_zip/\n",
    "!rm -rf downloads_zip.tar.gz\n",
    "# repeat the above line for all parts as well"
   ]
  },
  {
   "cell_type": "code",
   "execution_count": null,
   "metadata": {
    "collapsed": true
   },
   "outputs": [],
   "source": []
  }
 ],
 "metadata": {
  "kernelspec": {
   "display_name": "Python 3",
   "language": "python",
   "name": "python3"
  },
  "language_info": {
   "codemirror_mode": {
    "name": "ipython",
    "version": 3
   },
   "file_extension": ".py",
   "mimetype": "text/x-python",
   "name": "python",
   "nbconvert_exporter": "python",
   "pygments_lexer": "ipython3",
   "version": "3.6.0"
  }
 },
 "nbformat": 4,
 "nbformat_minor": 2
}
